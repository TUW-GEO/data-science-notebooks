{
 "cells": [
  {
   "cell_type": "markdown",
   "id": "2c656606-61aa-4eff-afc6-fe6486824163",
   "metadata": {},
   "source": [
    "# Reading and plotting multiple Datasets"
   ]
  },
  {
   "cell_type": "markdown",
   "id": "5fccaef6-04c2-4c05-926b-37116a819c15",
   "metadata": {},
   "source": [
    "In this notebook we will look at plotting multiple Time series from more than one dataset. Again we need the necessary imports."
   ]
  },
  {
   "cell_type": "code",
   "execution_count": null,
   "id": "e04381cc-d0f3-4561-9dbf-61cf37b8b75c",
   "metadata": {},
   "outputs": [],
   "source": [
    "import os\n",
    "from datetime import datetime\n",
    "import pandas as pd\n",
    "\n",
    "from datascience.read import Era5, Era5Land, AscatDataH121, Gldas, read_multiple_ds\n",
    "from datascience.plot import plot_multiple_gpis, plot_ts\n",
    "\n",
    "%matplotlib widget"
   ]
  },
  {
   "cell_type": "markdown",
   "id": "26ca1645-86b4-4d80-8c09-4bbea988e1a7",
   "metadata": {},
   "source": [
    "In this example we will look at plotting ERA-5 data with ASCAT data. You first need to create the respective objects."
   ]
  },
  {
   "cell_type": "code",
   "execution_count": null,
   "id": "50daf7f9-d367-4d31-8f6c-b032d0a6b21e",
   "metadata": {},
   "outputs": [],
   "source": [
    "era5 = Era5(read_bulk = False)\n",
    "ascat = AscatDataH121(read_bulk = False)\n",
    "era5land = Era5Land(read_bulk = False)\n",
    "gldas = Gldas(read_bulk = False)"
   ]
  },
  {
   "cell_type": "markdown",
   "id": "930fca88-4966-4899-8c41-2ae41ad6f2fd",
   "metadata": {},
   "source": [
    "And define a lat and lon:"
   ]
  },
  {
   "cell_type": "code",
   "execution_count": null,
   "id": "a9dd0b2c-a427-4282-81c6-5237e44c99fc",
   "metadata": {},
   "outputs": [],
   "source": [
    "lat = 48.198905\n",
    "lon = 16.367182"
   ]
  },
  {
   "cell_type": "markdown",
   "id": "0aee4eee-5a82-4664-92c9-e07d62f1c06b",
   "metadata": {},
   "source": [
    "You can see the gpi locations and spatial resolutions differ by dataset. You can choose between 1 and 4 objects to be plotted with the *plot_mulitple_gpis* function. The closest gpis are highlighted. You can choose how many grid points you want to show per dataset."
   ]
  },
  {
   "cell_type": "code",
   "execution_count": null,
   "id": "77e66ef7-fa93-4152-9351-c8c8dac64189",
   "metadata": {},
   "outputs": [],
   "source": [
    "plot_multiple_gpis((lon, lat), ascat, era5, era5land, gldas, k=30)"
   ]
  },
  {
   "cell_type": "markdown",
   "id": "c24b50ec-acb3-48d6-af92-43178c95273e",
   "metadata": {},
   "source": [
    "To read multiple datasets and make them comparable you first need to define a location. As you can see from the plot above, the location of the gpis vary by dataset. To make the results comparable we will choose the closest grid point to the defined location for each dataset with the *grid.find_nearest_gpi()* function. This function returns the closest gpi and the distance to the location.\n",
    "\n",
    "To keep it simple we will only load ASCAT and Era5 data in this example."
   ]
  },
  {
   "cell_type": "code",
   "execution_count": null,
   "id": "9dcd8d54-faf7-4315-affe-0473c9018aa1",
   "metadata": {},
   "outputs": [],
   "source": [
    "ascat_gpi, ascat_distance = ascat.grid.find_nearest_gpi(lon, lat)\n",
    "era5_gpi, era5_distance = era5.grid.find_nearest_gpi(lon, lat)\n",
    "print(f\"Ascat gpi: {ascat_gpi}, distance: {ascat_distance}\\nEra5 gpi: {era5_gpi}, distance: {era5_distance}\")"
   ]
  },
  {
   "cell_type": "markdown",
   "id": "760cacbf-f20f-4c14-a809-03d9c9951fb6",
   "metadata": {},
   "source": [
    "If you want to load the directly with the gpi, you first have to get the coordinates of the gpi using the *grid.gpi2lonlat()* function. Lets say you chose the gpi #1227274 from the ascat dataset:"
   ]
  },
  {
   "cell_type": "code",
   "execution_count": null,
   "id": "806916d8-b469-4181-ba2a-3c1a7493ac27",
   "metadata": {},
   "outputs": [],
   "source": [
    "location = ascat.grid.gpi2lonlat(ascat_gpi)\n",
    "location"
   ]
  },
  {
   "cell_type": "markdown",
   "id": "d6e1aae5-b465-4b5a-99c2-05784022bc4e",
   "metadata": {},
   "source": [
    "Now you can get the closest Era5-gpi to the ascat gpi:"
   ]
  },
  {
   "cell_type": "code",
   "execution_count": null,
   "id": "e3d9a544-73f8-4a97-b132-4432d51ddaf8",
   "metadata": {},
   "outputs": [],
   "source": [
    "era5_gpi, era5_distance = era5.grid.find_nearest_gpi(location[0], location[1])\n",
    "print(f\"Era5 gpi: {era5_gpi}, distance: {era5_distance}\")"
   ]
  },
  {
   "cell_type": "markdown",
   "id": "e6fade5c-2a7f-43fc-9158-01c704a3c538",
   "metadata": {},
   "source": [
    "You can now read the data:"
   ]
  },
  {
   "cell_type": "code",
   "execution_count": null,
   "id": "b18bf641-c0d0-472b-94ca-2826312fafcb",
   "metadata": {},
   "outputs": [],
   "source": [
    "ascat_data = ascat.read(ascat_gpi)\n",
    "era5_data = era5.read(era5_gpi)"
   ]
  },
  {
   "cell_type": "markdown",
   "id": "691b37ca-1371-4fb5-ab6d-1acdb7a36af6",
   "metadata": {},
   "source": [
    "To merge the data you first need to make sure that the index of the dataframe is in the same format:"
   ]
  },
  {
   "cell_type": "code",
   "execution_count": null,
   "id": "abace2a3-f49b-4be8-ae07-9f97bf64edba",
   "metadata": {},
   "outputs": [],
   "source": [
    "ascat_data.index = ascat_data.index.astype('datetime64[ms]')\n",
    "era5_data.index = era5_data.index.astype('datetime64[ms]')"
   ]
  },
  {
   "cell_type": "markdown",
   "id": "03054930-ea7d-4e8c-af8e-66f8570dbe1d",
   "metadata": {},
   "source": [
    "You can now merge the data using *pd.merge_asof*. Note that the resulting timestamps will be chosen from the first dataset which is given in the function, which means that information might get lost, or is chosen from the closest available timestamp."
   ]
  },
  {
   "cell_type": "code",
   "execution_count": null,
   "id": "d04a2364-113a-4c9d-8bf4-2597b7a3bbab",
   "metadata": {},
   "outputs": [],
   "source": [
    "merged_data = pd.merge_asof(ascat_data,\n",
    "                       era5_data,\n",
    "                       left_index=True,\n",
    "                       right_index=True,\n",
    "                       tolerance=pd.Timedelta(\"3h\"),\n",
    "                       direction=\"nearest\")\n",
    "\n",
    "merged_data"
   ]
  },
  {
   "cell_type": "markdown",
   "id": "e513ec9b-a7a6-4e52-8d27-c7d9855511fd",
   "metadata": {},
   "source": [
    "With the *read_multiple_ds* function you can read multiple datasets simultaneously. For the parameter *loc* you can either choose a (lon,lat) location or a gpi, you can choose one or more datasets to be read, but note that you need to choose a reference dataset (either *\"ascat\", \"era5\", \"era5land\"* or *\"gldas\"*). If you give a gpi for the *loc* parameter the reference dataset needs to be the dataset from which you chose the gpi. \n",
    "\n",
    "As a return you get a single dataframe, with the merged data from each dataset. Note that the index for the resulting dataframe is taken from the reference dataset. This means that if the reference dataset has a higher temporal resolution than the other datasets, the according timestamps for the other datasets will be filled with the values from the closest available timestamp. If the reference dataset has a lower temporal resolution some timestamps from the higher resolution data will be lost. Also Note that, if you merge two datasets with the same variable names (era5 and era5land), the according variables will be renamed in the resulting dataframe."
   ]
  },
  {
   "cell_type": "code",
   "execution_count": null,
   "id": "5b8ebb09-d61e-4a14-a66b-5dbf48326bc8",
   "metadata": {},
   "outputs": [],
   "source": [
    "ts = read_multiple_ds(loc=(lon, lat), ascat=ascat, era5=era5, era5land=era5land, gldas=gldas, ref_ds=\"ascat\")"
   ]
  },
  {
   "cell_type": "code",
   "execution_count": null,
   "id": "59ec33b6-9d52-4787-b97c-1177f7ccff10",
   "metadata": {},
   "outputs": [],
   "source": [
    "ts"
   ]
  },
  {
   "cell_type": "markdown",
   "id": "ecc812b4-0f65-4916-8a7b-3b850dac94ad",
   "metadata": {},
   "source": [
    "You can see which columns are available (*https://codes.ecmwf.int/grib/param-db/?search=sd*):"
   ]
  },
  {
   "cell_type": "code",
   "execution_count": null,
   "id": "b71e0831-a31c-445e-9d0f-88557d50d50a",
   "metadata": {},
   "outputs": [],
   "source": [
    "ts.columns"
   ]
  },
  {
   "cell_type": "markdown",
   "id": "3de51201-a379-44c1-bbc9-f3d69efc7639",
   "metadata": {},
   "source": [
    "You should also mask where soil moisture values are not valid (where the temperature is below freezing and where there is snow):"
   ]
  },
  {
   "cell_type": "code",
   "execution_count": null,
   "id": "8823d451-a5cb-4587-bff3-a93d3be98583",
   "metadata": {},
   "outputs": [],
   "source": [
    "not_valid = (ts[\"stl1_era5\"] < 0) | (ts[\"sd\"] > 0)\n",
    "ts.loc[:,\"sm_valid\"] = ~not_valid"
   ]
  },
  {
   "cell_type": "code",
   "execution_count": null,
   "id": "0278fb8e-4c46-4f79-85d3-e9320c5cb9b0",
   "metadata": {},
   "outputs": [],
   "source": [
    "ts_valid = ts.loc[ts[\"sm_valid\"]]"
   ]
  },
  {
   "cell_type": "markdown",
   "id": "51fca564-dff9-487d-b355-63031935fa9e",
   "metadata": {},
   "source": [
    "Again, you can plot the data from specific columns with the *plot_ts* function"
   ]
  },
  {
   "cell_type": "code",
   "execution_count": null,
   "id": "124269ab-2b76-4797-8db0-ab47a7f0ab94",
   "metadata": {},
   "outputs": [],
   "source": [
    "params = [\"surface_soil_moisture\", \"swvl1_era5\", \"SoilMoi0_10cm_inst\"]\n",
    "timeperiod = [datetime(2019,1,1), datetime(2021,12,1)]\n",
    "plot_ts(ts_valid, params, timeperiod, title=\"Simple Time series\")"
   ]
  },
  {
   "cell_type": "code",
   "execution_count": null,
   "id": "612693c8-33fa-4af7-82d0-660355941152",
   "metadata": {},
   "outputs": [],
   "source": []
  }
 ],
 "metadata": {
  "kernelspec": {
   "display_name": "datascience",
   "language": "python",
   "name": "datascience"
  },
  "language_info": {
   "codemirror_mode": {
    "name": "ipython",
    "version": 3
   },
   "file_extension": ".py",
   "mimetype": "text/x-python",
   "name": "python",
   "nbconvert_exporter": "python",
   "pygments_lexer": "ipython3",
   "version": "3.11.9"
  }
 },
 "nbformat": 4,
 "nbformat_minor": 5
}
