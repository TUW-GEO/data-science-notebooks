{
 "cells": [
  {
   "cell_type": "markdown",
   "id": "c5346b4e-a277-435a-90bb-3d6369989214",
   "metadata": {},
   "source": [
    "# Reading and plotting single datasets"
   ]
  },
  {
   "cell_type": "markdown",
   "id": "b2e8cc0a-33d8-4ba1-b5f7-ad4ce18f8fe5",
   "metadata": {},
   "source": [
    "To be able to work with the datascience package you first need to import the necessary modules with the *install_packages* notebook. After that you can import the needed modules."
   ]
  },
  {
   "cell_type": "code",
   "execution_count": null,
   "id": "09c0b50b-42cc-4ee2-90ef-eecbc9a7d609",
   "metadata": {},
   "outputs": [],
   "source": [
    "import os\n",
    "from datetime import datetime\n",
    "import matplotlib.pyplot as plt\n",
    "from datascience.read import Era5, Era5Land, AscatDataH121, Gldas\n",
    "from datascience.plot import plot_gpis, plot_ts\n",
    "\n",
    "%matplotlib widget"
   ]
  },
  {
   "cell_type": "markdown",
   "id": "3c7568b7-8726-4d13-96c8-503678e057d8",
   "metadata": {},
   "source": [
    "Beware that Era-5, Era-5-Land and ASCAT data have a different format than the common GeoTIFF. Data is divided into 2591 cells (5°x5°) (https://ecmwf-models.readthedocs.io/en/latest/_images/5x5_cell_partitioning.png), and each cell contains a different number of grid points, the number of grid points varies per cell and the spatial resolution varies by dataset. Also the data is saved in a single file for each cell however it is still possible to only access the information of a single grid point."
   ]
  },
  {
   "cell_type": "markdown",
   "id": "4fca25fa-6866-4a64-acbd-f4bd04ab71cb",
   "metadata": {},
   "source": [
    "The loading of Era-5, Era-5-Land, ASCAT and GLDAS data work the same way. We will look at Era-5 data in this example.\n",
    "\n",
    "First, you need to create an Era-5 Object. Note that if you want to read the data of a whole cell (up to 2004 grid points) you should set the parameter *read_bulk=True*, if you only want to read a single grid point set the parameter to *False*."
   ]
  },
  {
   "cell_type": "code",
   "execution_count": null,
   "id": "d2b18d81-4456-44c7-97c3-79eda314a0c3",
   "metadata": {},
   "outputs": [],
   "source": [
    "obj = Era5(read_bulk = False)"
   ]
  },
  {
   "cell_type": "markdown",
   "id": "3de9de59-82af-4067-bfb3-bf39c600abfe",
   "metadata": {},
   "source": [
    "To see the spatial distribution of the grid points more clearly you can plot them around a specific location (lon, lat) or a specific gpi. We can use cartopy and the *plot_gpis* function to do so."
   ]
  },
  {
   "cell_type": "code",
   "execution_count": null,
   "id": "bf41dc59-a43c-4797-9c01-0e2a668f2c7e",
   "metadata": {},
   "outputs": [],
   "source": [
    "lat = 48.198905\n",
    "lon = 16.367182\n",
    "gpi = 240545"
   ]
  },
  {
   "cell_type": "markdown",
   "id": "cc38c3c9-91f6-426e-995f-036501443f61",
   "metadata": {},
   "source": [
    "The red grid-lines show the cell, the red marker show the location and the blue markers the grid points. If you hover over the markers you can see the index, the cell id and the distance to the location. The closest gpi is highlighted. You can choose how many grid points you want to show."
   ]
  },
  {
   "cell_type": "code",
   "execution_count": null,
   "id": "bd880d3b-47c8-41fc-b3fa-cd9f321e7782",
   "metadata": {},
   "outputs": [],
   "source": [
    "plot_gpis((lon, lat), obj, k=100)"
   ]
  },
  {
   "cell_type": "markdown",
   "id": "4639980d-6053-46c9-8d05-bd9b36d1081b",
   "metadata": {},
   "source": [
    "With the function *.read* you can load the data into memory. You can either give the grid point index or lon and lat coordinates. When giving coordinates the closest grid point will be chosen automatically."
   ]
  },
  {
   "cell_type": "code",
   "execution_count": null,
   "id": "b74de1ad-f367-49cd-a7f4-e71a15534b29",
   "metadata": {},
   "outputs": [],
   "source": [
    "data = obj.read(gpi)\n",
    "data"
   ]
  },
  {
   "cell_type": "code",
   "execution_count": null,
   "id": "a7837440-86ec-4411-ad0f-fdabaf6edfc4",
   "metadata": {},
   "outputs": [],
   "source": [
    "data = obj.read(lon, lat)\n",
    "data"
   ]
  },
  {
   "cell_type": "markdown",
   "id": "8fb9a6e5-5d03-44c8-b3c2-7a1d728cc49b",
   "metadata": {},
   "source": [
    "You can find out about the meaning of the parameters with *https://codes.ecmwf.int/grib/param-db/?search=sd*, beware that the temperature unit is °C not K."
   ]
  },
  {
   "cell_type": "markdown",
   "id": "17098160-4f80-4365-afe1-263ac8512290",
   "metadata": {},
   "source": [
    "You can now plot the data."
   ]
  },
  {
   "cell_type": "code",
   "execution_count": null,
   "id": "8e6b56c8-029b-475b-9dcd-998f722fe28d",
   "metadata": {},
   "outputs": [],
   "source": [
    "fig, ax = plt.subplots(3,1, figsize=(7,7))\n",
    "\n",
    "data[\"swvl1\"].plot(ax=ax[0])\n",
    "ax[0].set_xlim([datetime(2020,1,1), datetime(2021,12,1)])\n",
    "ax[0].set_ylabel(\"swvl1\")\n",
    "ax[0].set_xlabel(\"Date\")\n",
    "ax[0].set_title(\"Volumetric soil water layer 1\\n1.1.2020-1.12.2021\")\n",
    "\n",
    "data[\"stl1\"].plot(ax=ax[1])\n",
    "ax[1].set_xlim([datetime(2020,1,1), datetime(2021,12,1)])\n",
    "ax[1].set_ylabel(\"stl1\")\n",
    "ax[1].set_xlabel(\"Date\")\n",
    "ax[1].set_title(\"Soil temperature level 1\\n1.1.2020-1.12.2021\")\n",
    "\n",
    "data[\"t2m\"].plot(ax=ax[2])\n",
    "ax[2].set_xlim([datetime(2020,1,1), datetime(2021,12,1)])\n",
    "ax[2].set_ylabel(\"t2m\")\n",
    "ax[2].set_xlabel(\"Date\")\n",
    "ax[2].set_title(\"2m Temperature \\n1.1.2020-1.12.2021\")\n",
    "\n",
    "plt.tight_layout()\n",
    "plt.show()"
   ]
  },
  {
   "cell_type": "markdown",
   "id": "cbdf1370-5a8f-4b6d-8076-32b366d5f54a",
   "metadata": {},
   "source": [
    "You can also use the *plot_ts* function. When giving a *fname* the plot will be saved."
   ]
  },
  {
   "cell_type": "code",
   "execution_count": null,
   "id": "0aa11f81-1c1f-4c16-afd9-f9bc29b3ed08",
   "metadata": {},
   "outputs": [],
   "source": [
    "params = [\"swvl1\", \"stl1\", \"t2m\"]\n",
    "timeperiod = [datetime(2020,1,1), datetime(2021,12,1)]\n",
    "plot_ts(data, params, timeperiod, title=\"Simple Time series\", fname=\"simple_ts.png\")"
   ]
  },
  {
   "cell_type": "code",
   "execution_count": null,
   "id": "1a2373a4-eaa7-4751-b3c4-d8d0b63dc2cb",
   "metadata": {},
   "outputs": [],
   "source": []
  }
 ],
 "metadata": {
  "kernelspec": {
   "display_name": "Python 3 (ipykernel)",
   "language": "python",
   "name": "python3"
  },
  "language_info": {
   "codemirror_mode": {
    "name": "ipython",
    "version": 3
   },
   "file_extension": ".py",
   "mimetype": "text/x-python",
   "name": "python",
   "nbconvert_exporter": "python",
   "pygments_lexer": "ipython3",
   "version": "3.11.8"
  }
 },
 "nbformat": 4,
 "nbformat_minor": 5
}
