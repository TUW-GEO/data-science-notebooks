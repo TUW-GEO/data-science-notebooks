{
 "cells": [
  {
   "cell_type": "markdown",
   "id": "4433eaad-6c79-4b9d-a001-b7a3ae2086ae",
   "metadata": {},
   "source": [
    "# Data visualization"
   ]
  },
  {
   "cell_type": "markdown",
   "id": "0aed5124-9991-4ec0-b95d-8a6ad483c0e8",
   "metadata": {},
   "source": [
    "In this Notebook we will look at how to visualize Data."
   ]
  },
  {
   "cell_type": "code",
   "execution_count": null,
   "id": "4750adab-81b3-4a81-9659-779209d54850",
   "metadata": {},
   "outputs": [],
   "source": [
    "import os\n",
    "from datetime import datetime\n",
    "import numpy as np\n",
    "from eomaps import Maps\n",
    "import matplotlib.pyplot as plt\n",
    "import cartopy.crs as ccrs\n",
    "import cartopy.feature as cfeature\n",
    "\n",
    "from datascience.read import Era5, Era5Land, AscatDataH121, Gldas\n",
    "from datascience.plot import plot_multiple_gpis, plot_ts\n",
    "\n",
    "%matplotlib widget"
   ]
  },
  {
   "cell_type": "markdown",
   "id": "429810bc-915c-47d2-abbd-9e438e11af82",
   "metadata": {},
   "source": [
    "In contrast to the former Notebooks, this time we will set *read_bulk* to *True*. As already discussed, this has an advantage when reading multiple gpis."
   ]
  },
  {
   "cell_type": "code",
   "execution_count": null,
   "id": "069b5362-5fe2-4e9e-b764-ae563081fc52",
   "metadata": {},
   "outputs": [],
   "source": [
    "era5 = Era5(read_bulk = True)\n",
    "ascat = AscatDataH121(read_bulk = True)"
   ]
  },
  {
   "cell_type": "code",
   "execution_count": null,
   "id": "42c6b8e5-f7c5-42e6-85d9-18b81863f9fd",
   "metadata": {},
   "outputs": [],
   "source": [
    "lat = 48.198905\n",
    "lon = 16.367182"
   ]
  },
  {
   "cell_type": "markdown",
   "id": "7e024121-0449-419c-8e51-483eeb140f64",
   "metadata": {},
   "source": [
    "You can define a bounding box in which you want to analyze the data. We will need this later on."
   ]
  },
  {
   "cell_type": "code",
   "execution_count": null,
   "id": "3a22aad7-eb39-4d32-862c-15c556798669",
   "metadata": {},
   "outputs": [],
   "source": [
    "lat_min, lat_max = 47, 49\n",
    "lon_min, lon_max = 15, 17"
   ]
  },
  {
   "cell_type": "code",
   "execution_count": null,
   "id": "46353150-aba4-4b6a-a1d8-520a8dc4d87d",
   "metadata": {},
   "outputs": [],
   "source": [
    "plot_multiple_gpis((lon, lat), era5, ascat, k=30)"
   ]
  },
  {
   "cell_type": "markdown",
   "id": "9dc7578c-6b47-49ee-a638-b70ede7fa94b",
   "metadata": {},
   "source": [
    "With the *obj.grid.get_bbox_grid_points* function, and setting the coordinates of the bounding box, you will get all the gpis in this box as an np.array."
   ]
  },
  {
   "cell_type": "code",
   "execution_count": null,
   "id": "5c03a3af-a4bb-45bc-b2c6-6168989ce335",
   "metadata": {},
   "outputs": [],
   "source": [
    "era5_gpis = era5.grid.get_bbox_grid_points(lat_min, lat_max, lon_min, lon_max)\n",
    "ascat_gpis = ascat.grid.get_bbox_grid_points(lat_min, lat_max, lon_min, lon_max)\n",
    "ascat_gpis"
   ]
  },
  {
   "cell_type": "markdown",
   "id": "da14f806-4e45-464b-8181-87a958eb34d7",
   "metadata": {},
   "source": [
    "You can now load the data into memory, itrerate through the gpis and save the data values and coordinates of each gpi in an np.array. As we set *read_bulk* to *True*, not the whole file has to opened each time, when reading a gpi."
   ]
  },
  {
   "cell_type": "code",
   "execution_count": null,
   "id": "024d76b7-9ab4-424c-9276-96de9c029576",
   "metadata": {},
   "outputs": [],
   "source": [
    "era5_data = []\n",
    "ascat_data = []\n",
    "\n",
    "for gpi in era5_gpis:\n",
    "    era5_data.append(era5.read(gpi)[\"swvl1\"].loc[datetime(2007,1,1,0,0)])\n",
    "\n",
    "for gpi in ascat_gpis:\n",
    "    ascat_data.append(ascat.read(gpi)[\"surface_soil_moisture\"].iloc[0])\n",
    "\n",
    "era5_data = np.array(era5_data)\n",
    "ascat_data = np.array(ascat_data)\n",
    "\n",
    "era5_lon, era5_lat = era5.grid.gpi2lonlat(era5_gpis)\n",
    "ascat_lon, ascat_lat = ascat.grid.gpi2lonlat(ascat_gpis)"
   ]
  },
  {
   "cell_type": "markdown",
   "id": "47da68ee-d54a-468f-936b-46d02a29560e",
   "metadata": {},
   "source": [
    "You can plot the data with imshow, but to do that, you first need to reshape your data accordingly:"
   ]
  },
  {
   "cell_type": "code",
   "execution_count": null,
   "id": "b23d5218-aad3-47c5-8347-a74fe063039c",
   "metadata": {},
   "outputs": [],
   "source": [
    "data_reshaped = era5_data.reshape(np.meshgrid(np.unique(era5_lon), np.unique(era5_lat))[0].shape)"
   ]
  },
  {
   "cell_type": "code",
   "execution_count": null,
   "id": "dc5e1622-dfe7-4115-be3d-aa294d67420f",
   "metadata": {},
   "outputs": [],
   "source": [
    "plt.figure(figsize=(10, 6))\n",
    "\n",
    "# Create a GeoAxes with a PlateCarree projection\n",
    "ax = plt.axes(projection=ccrs.PlateCarree())\n",
    "\n",
    "# Add map features\n",
    "ax.add_feature(cfeature.COASTLINE)\n",
    "ax.add_feature(cfeature.BORDERS)\n",
    "ax.add_feature(cfeature.LAND)\n",
    "ax.add_feature(cfeature.RIVERS)\n",
    "ax.add_feature(cfeature.LAKES)    \n",
    "ax.add_feature(cfeature.STATES, alpha=0.2)\n",
    "\n",
    "# Plot the points\n",
    "plot = ax.imshow(data_reshaped, extent=[lon_min, lon_max, lat_min, lat_max],\n",
    "                origin='upper', cmap='viridis_r', aspect='auto')\n",
    "\n",
    "# Create a colorbar\n",
    "cbar = plt.colorbar(plot, orientation='vertical')\n",
    "cbar.set_label('swvl1')\n",
    "\n",
    "# Set ticks and extent\n",
    "ax.set_xticks(range(-180, 181, 1), crs=ccrs.PlateCarree())\n",
    "ax.set_yticks(range(-90, 91, 1), crs=ccrs.PlateCarree()) \n",
    "ax.set_extent([lon_min-1,lon_max+1,lat_min-1,lat_max+1], crs=ccrs.PlateCarree())\n",
    "\n",
    "# Set title and labels\n",
    "plt.title('Volumetric soil water layer 1')\n",
    "plt.xlabel(\"Longitude [°]\")\n",
    "plt.ylabel(\"Latitude [°]\")\n",
    "plt.show()"
   ]
  },
  {
   "cell_type": "markdown",
   "id": "12c449e4-33ed-4a33-9899-28cf13e36651",
   "metadata": {},
   "source": [
    "An alternative to imshow is EOmaps. The EOmaps library is a very powerful tool when visualizing data. Find out more about it and play around with the different settings (https://eomaps.readthedocs.io/en/latest/index.html)."
   ]
  },
  {
   "cell_type": "code",
   "execution_count": null,
   "id": "4d370d87-b168-4fdf-9cdf-4014b725139b",
   "metadata": {},
   "outputs": [],
   "source": [
    "m = Maps()\n",
    "\n",
    "# Add map features\n",
    "m.add_feature.preset(\"ocean\", \"coastline\", \"land\", \"countries\")\n",
    "\n",
    "# Create a new layer and assign data\n",
    "m_data = m.new_layer()\n",
    "m_data.set_data(\n",
    "    data = era5_data,\n",
    "    x = era5_lon,\n",
    "    y = era5_lat,\n",
    "    crs = 4326\n",
    "    )\n",
    "\n",
    "# Set extent\n",
    "m_data.set_extent([lon_min-1,lon_max+1,lat_min-1,lat_max+1])\n",
    "\n",
    "# Set shape of the data\n",
    "m_data.set_shape.raster()\n",
    "\n",
    "# Configure Colorbar\n",
    "m_data.set_classify.EqualInterval(k=10)\n",
    "m_data.plot_map(lw=0, cmap=\"viridis_r\")\n",
    "m_data.add_colorbar(hist_bins=\"bins\", label=\"swvl1\")\n",
    "\n",
    "m.show()"
   ]
  },
  {
   "cell_type": "markdown",
   "id": "b1a94274-4089-4190-9943-3624c2b26f4c",
   "metadata": {},
   "source": [
    "Beware that you can only plot Era5, Era5Land and GLDAS data as raster data. ASCAT data has to be plotted with geodesic circles:"
   ]
  },
  {
   "cell_type": "code",
   "execution_count": null,
   "id": "7422cebf-71da-43c4-9a3e-8b615ffeeb5c",
   "metadata": {},
   "outputs": [],
   "source": [
    "m = Maps()\n",
    "\n",
    "# Add map features\n",
    "m.add_feature.preset(\"ocean\", \"coastline\", \"land\", \"countries\")\n",
    "\n",
    "# Create a new layer and assign data\n",
    "m_data = m.new_layer()\n",
    "m_data.set_data(\n",
    "    data=ascat_data,\n",
    "    x = ascat_lon,\n",
    "    y = ascat_lat,\n",
    "    crs = 4326\n",
    "    )\n",
    "\n",
    "# Set extent\n",
    "m_data.set_extent([lon_min-1,lon_max+1,lat_min-1,lat_max+1])\n",
    "\n",
    "# Set shape of the data\n",
    "m_data.set_shape.geod_circles(radius=6250)\n",
    "\n",
    "# Configure Colorbar\n",
    "m_data.set_classify.EqualInterval(k=10)\n",
    "m_data.plot_map(lw=0, cmap=\"viridis_r\")\n",
    "m_data.add_colorbar(hist_bins=\"bins\", label=\"surface soil moisture\")\n",
    "\n",
    "m.show()"
   ]
  },
  {
   "cell_type": "code",
   "execution_count": null,
   "id": "497e56bf-0f26-4212-bac0-71dbb8c114d8",
   "metadata": {},
   "outputs": [],
   "source": []
  }
 ],
 "metadata": {
  "kernelspec": {
   "display_name": "datascience",
   "language": "python",
   "name": "datascience"
  },
  "language_info": {
   "codemirror_mode": {
    "name": "ipython",
    "version": 3
   },
   "file_extension": ".py",
   "mimetype": "text/x-python",
   "name": "python",
   "nbconvert_exporter": "python",
   "pygments_lexer": "ipython3",
   "version": "3.11.9"
  }
 },
 "nbformat": 4,
 "nbformat_minor": 5
}
