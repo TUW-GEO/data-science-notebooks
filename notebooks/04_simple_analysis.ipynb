{
 "cells": [
  {
   "cell_type": "markdown",
   "id": "ed03cf11-a8c5-499c-bb73-da6079901fdf",
   "metadata": {},
   "source": [
    "# Simple timeseries analysis"
   ]
  },
  {
   "cell_type": "markdown",
   "id": "299b7ae2-38c3-47b7-90a4-c65eb7114d68",
   "metadata": {},
   "source": [
    "In this Notebook you will learn to perform different kinds of analysis on timeseries data"
   ]
  },
  {
   "cell_type": "markdown",
   "id": "62ab2beb-4532-4fac-918c-7f665f786fec",
   "metadata": {},
   "source": [
    "Seaborn is a powerful library to visualise informative statistical graphics (https://seaborn.pydata.org/index.html)"
   ]
  },
  {
   "cell_type": "code",
   "execution_count": null,
   "id": "00921002-c233-42cb-b899-9e2518ccbf34",
   "metadata": {},
   "outputs": [],
   "source": [
    "import matplotlib.pyplot as plt\n",
    "import seaborn as sns\n",
    "from scipy import stats\n",
    "from statsmodels.tsa import seasonal\n",
    "\n",
    "from datascience.read import Era5, AscatDataH121, read_multiple_ds\n",
    "\n",
    "%matplotlib widget"
   ]
  },
  {
   "cell_type": "markdown",
   "id": "19f0fd26-9a6b-4f32-9ae3-84816050ec4e",
   "metadata": {},
   "source": [
    "We will look at ERA5 and ASCAT data in this notebook. The reading and filtering of valid data is identical as in the previous notebooks."
   ]
  },
  {
   "cell_type": "code",
   "execution_count": null,
   "id": "4599bab9-282c-4dec-a208-374c42a34a05",
   "metadata": {},
   "outputs": [],
   "source": [
    "era5 = Era5(read_bulk = False)\n",
    "ascat = AscatDataH121(read_bulk = False)"
   ]
  },
  {
   "cell_type": "code",
   "execution_count": null,
   "id": "29ce3a74-f153-4b98-ac32-1362351197f0",
   "metadata": {},
   "outputs": [],
   "source": [
    "lat = 48.198905\n",
    "lon = 16.367182\n",
    "gpi = era5.grid.find_nearest_gpi(lon, lat)[0]"
   ]
  },
  {
   "cell_type": "code",
   "execution_count": null,
   "id": "a427135c-3a10-433b-b76f-ebd736e69609",
   "metadata": {},
   "outputs": [],
   "source": [
    "ts = read_multiple_ds(loc=(lon, lat), ascat=ascat, era5=era5, ref_ds=\"ascat\")"
   ]
  },
  {
   "cell_type": "code",
   "execution_count": null,
   "id": "e3f339a1-7ce7-42ba-9fbc-d177eafb442a",
   "metadata": {},
   "outputs": [],
   "source": [
    "not_valid = (ts[\"stl1_era5\"] < 0) | (ts[\"sd\"] > 0)\n",
    "ts.loc[:,\"sm_valid\"] = ~not_valid\n",
    "ts_valid = ts.loc[ts[\"sm_valid\"]]\n",
    "ts_valid = ts_valid.dropna()"
   ]
  },
  {
   "cell_type": "markdown",
   "id": "f4cc8925-0d7f-44c7-9120-05a9a6c30bbc",
   "metadata": {},
   "source": [
    "## Linear regression"
   ]
  },
  {
   "cell_type": "markdown",
   "id": "cdfb0237-ac2c-4392-8001-775fe697cab9",
   "metadata": {},
   "source": [
    "To find the correlation between two variables you can scatterplot them against eachother and use the linregress and pearsonr function to get numerical values. The resulting pearson statistic show the correlation between two variables, a small p-value(<0.05) show a statistical relevanve to this correlation. Note that the p-value is dependent on the size of the dataset, large datasets give small p-values independent on their statistical relevance."
   ]
  },
  {
   "cell_type": "code",
   "execution_count": null,
   "id": "a37e3f63-d30f-4a71-b36e-720a610a3086",
   "metadata": {},
   "outputs": [],
   "source": [
    "linreg = stats.linregress(ts_valid[\"surface_soil_moisture\"],  ts_valid[\"swvl1_era5\"])\n",
    "pearson = stats.pearsonr(ts_valid[\"surface_soil_moisture\"],  ts_valid[\"swvl1_era5\"])\n",
    "pearson"
   ]
  },
  {
   "cell_type": "code",
   "execution_count": null,
   "id": "df3c6ceb-087c-426e-95cb-bcb626e368e9",
   "metadata": {},
   "outputs": [],
   "source": [
    "fig, ax = plt.subplots(figsize=(7,7))\n",
    "\n",
    "kwargs = {\"facecolors\": \"None\", \"edgecolor\": \"C0\"}\n",
    "\n",
    "ax.scatter(ts_valid[\"surface_soil_moisture\"], ts_valid[\"swvl1_era5\"], **kwargs)\n",
    "ax.plot(ts_valid[\"surface_soil_moisture\"], linreg.intercept+linreg.slope*ts_valid[\"surface_soil_moisture\"], c=\"r\")\n",
    "ax.set_xlabel(\"surface soil moisture [%]\")\n",
    "ax.set_ylabel(\"volumetric soil water layer 1 [m]\")\n",
    "ax.set_title(\"Soil Moisture ASCAT vs. swvl1 Era5\")\n",
    "\n",
    "plt.show()"
   ]
  },
  {
   "cell_type": "markdown",
   "id": "3975949e-d01a-49d5-8ef2-ee519457e12a",
   "metadata": {},
   "source": [
    "## Pairplot"
   ]
  },
  {
   "cell_type": "markdown",
   "id": "ff858a90-eee8-420c-ba6f-eae2a6ca90be",
   "metadata": {},
   "source": [
    "You can also create a pairplot to see the visualise the correlation between more than two variables:"
   ]
  },
  {
   "cell_type": "code",
   "execution_count": null,
   "id": "ebe95a6b-f5cc-48d3-9992-5188cc57db32",
   "metadata": {},
   "outputs": [],
   "source": [
    "sns.pairplot(ts_valid, vars=[\"surface_soil_moisture\", \"swvl1_era5\", \"stl1_era5\"], diag_kind=\"hist\", plot_kws=kwargs)"
   ]
  },
  {
   "cell_type": "markdown",
   "id": "63606ef9-3873-48b4-9f46-733acacd82e4",
   "metadata": {},
   "source": [
    "## Boxplot"
   ]
  },
  {
   "cell_type": "markdown",
   "id": "12d0e6b8-990e-40b6-b43e-6cc8378496fd",
   "metadata": {},
   "source": [
    "And create boxplots to see the distribution of values"
   ]
  },
  {
   "cell_type": "code",
   "execution_count": null,
   "id": "0b01e451-ed75-4bfd-a3e5-41de60da1456",
   "metadata": {},
   "outputs": [],
   "source": [
    "fig, ax = plt.subplots(figsize=(5,5))\n",
    "\n",
    "sns.boxplot(ts[\"surface_soil_moisture\"], fill=False)\n",
    "ax.set_title(\"Boxplot surface soil moisture ASCAT\")\n",
    "ax.set_ylabel(\"surface soil moisture [%]\")\n",
    "ax.set_xlabel(f\"gpi: {gpi}\")\n",
    "\n",
    "plt.show()"
   ]
  },
  {
   "cell_type": "markdown",
   "id": "b2e25283-1389-43a7-85ef-ed7f799fc483",
   "metadata": {},
   "source": [
    "## Seasonal Trend"
   ]
  },
  {
   "cell_type": "markdown",
   "id": "df1e6e3c-7892-4fb4-9323-351874ba0b7b",
   "metadata": {},
   "source": [
    "Also, you can create seasonal trend analysis, beware that nan values might cause problems, as you need temporal consistent data. To do this you can also resample the data to a consistent time frame (beware that if you do this some variables are not meaningful anymore). The period should be chosen after how many entries the data repeats itself (e.g. if it repeats itself every year and you have data every 5 days the period is 365/5=73)"
   ]
  },
  {
   "cell_type": "code",
   "execution_count": null,
   "id": "52a739c6-4236-485f-98be-69118cd75f3a",
   "metadata": {},
   "outputs": [],
   "source": [
    "ts_resampled = ts.resample('5D').mean()\n",
    "ts_resampled"
   ]
  },
  {
   "cell_type": "code",
   "execution_count": null,
   "id": "dba891fd-ea18-4256-99bb-028c30c284d5",
   "metadata": {},
   "outputs": [],
   "source": [
    "result = seasonal.seasonal_decompose(ts_resampled[\"surface_soil_moisture\"].dropna(), model=\"additive\", period=73)\n",
    "result.plot()\n",
    "plt.show()"
   ]
  },
  {
   "cell_type": "markdown",
   "id": "cc1d3e97-e2ee-4160-8ef2-fa1f92da0c0f",
   "metadata": {},
   "source": [
    "You can also compare the trend of different variables:"
   ]
  },
  {
   "cell_type": "code",
   "execution_count": null,
   "id": "b48e9cb7-21c9-404b-b389-bfc34a002460",
   "metadata": {},
   "outputs": [],
   "source": [
    "trend_ssm = seasonal.seasonal_decompose(ts_resampled[\"surface_soil_moisture\"].dropna(), model=\"additive\", period=73).trend\n",
    "trend_t2m = seasonal.seasonal_decompose(ts_resampled[\"t2m_era5\"].dropna(), model=\"additive\", period=73).trend\n",
    "\n",
    "fig, ax = plt.subplots(1,1, figsize=(10,5))\n",
    "ax.plot(trend_ssm, label=\"ssm\")\n",
    "ax1 = ax.twinx()\n",
    "ax1.plot(trend_t2m, c=\"r\", label=\"t2m\")\n",
    "ax.set_title(\"surface soil moisture and temperature 2m trends\")\n",
    "ax.set_ylabel(\"ssm [%]\")\n",
    "ax1.set_ylabel(\"t2m [°C]\")\n",
    "ax.set_xlabel(\"Date\")\n",
    "ax.legend()\n",
    "ax1.legend()\n",
    "\n",
    "plt.show()"
   ]
  },
  {
   "cell_type": "code",
   "execution_count": null,
   "id": "33289355-7176-4311-92ba-5e1d481f555d",
   "metadata": {},
   "outputs": [],
   "source": []
  }
 ],
 "metadata": {
  "kernelspec": {
   "display_name": "datascience",
   "language": "python",
   "name": "datascience"
  },
  "language_info": {
   "codemirror_mode": {
    "name": "ipython",
    "version": 3
   },
   "file_extension": ".py",
   "mimetype": "text/x-python",
   "name": "python",
   "nbconvert_exporter": "python",
   "pygments_lexer": "ipython3",
   "version": "3.11.9"
  }
 },
 "nbformat": 4,
 "nbformat_minor": 5
}
