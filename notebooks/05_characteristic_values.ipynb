{
 "cells": [
  {
   "cell_type": "markdown",
   "id": "2bd58871-d0d9-4820-97a2-e10dc2f14dbc",
   "metadata": {},
   "source": [
    "# Characterisic values"
   ]
  },
  {
   "cell_type": "markdown",
   "id": "9f06e14d-a897-42a4-b61c-67d3f92c32c9",
   "metadata": {},
   "source": [
    "In this notebook you will learn the meaning of various characteristic values, and how to calculate them."
   ]
  },
  {
   "cell_type": "code",
   "execution_count": null,
   "id": "699c54a7-6719-4a39-a5e7-51aafbf8d1d4",
   "metadata": {},
   "outputs": [],
   "source": [
    "import matplotlib.pyplot as plt\n",
    "from statsmodels.tsa import seasonal\n",
    "from datetime import datetime\n",
    "\n",
    "from datascience.read import Era5, AscatDataH121, read_multiple_ds\n",
    "\n",
    "%matplotlib widget"
   ]
  },
  {
   "cell_type": "markdown",
   "id": "bb562833-2df0-48d2-bddf-2fffdbbe1ec7",
   "metadata": {},
   "source": [
    "We will look at data from ASCAT and ERA5"
   ]
  },
  {
   "cell_type": "code",
   "execution_count": null,
   "id": "cd4fb79f-b14f-44e9-8c05-ae8c7b65b916",
   "metadata": {},
   "outputs": [],
   "source": [
    "era5 = Era5(read_bulk = False)\n",
    "ascat = AscatDataH121(read_bulk = False)"
   ]
  },
  {
   "cell_type": "code",
   "execution_count": null,
   "id": "ce2b2e8f-76cd-45f3-8ebc-8977eb3f2f51",
   "metadata": {},
   "outputs": [],
   "source": [
    "lat = 48.198905\n",
    "lon = 16.367182\n",
    "gpi = era5.grid.find_nearest_gpi(lon, lat)[0]"
   ]
  },
  {
   "cell_type": "code",
   "execution_count": null,
   "id": "c1386e7c-ea1d-45c4-964f-7c743ee1db8c",
   "metadata": {},
   "outputs": [],
   "source": [
    "ts = read_multiple_ds(loc=(lon, lat), ascat=ascat, era5=era5, ref_ds= \"ascat\")"
   ]
  },
  {
   "cell_type": "markdown",
   "id": "e333fd88-17bf-4163-a709-9c9907a60621",
   "metadata": {},
   "source": [
    "You can get the needed variables, and calculate indices with them:"
   ]
  },
  {
   "cell_type": "code",
   "execution_count": null,
   "id": "d341c399-8426-40d0-8a79-10bec3057993",
   "metadata": {},
   "outputs": [],
   "source": [
    "t2m = ts[\"t2m_era5\"]\n",
    "tp = ts[\"tp_era5\"]\n",
    "ssm = ts[\"surface_soil_moisture\"]"
   ]
  },
  {
   "cell_type": "markdown",
   "id": "17926ee2-1ae9-4b30-b4ca-f1dd268de4d9",
   "metadata": {},
   "source": [
    "TCI is used to determine stress on vegetation caused by temperatures and excessive wetness. Conditions are estimated relative to the maximum and minimum temperatures and modified to reflect different vegetation responses to temperature. TCI varies from 0, for extremely unfavorable conditions to 1 for optimal conditions."
   ]
  },
  {
   "cell_type": "code",
   "execution_count": null,
   "id": "d8a49e23-9db4-4d92-b88f-5ebfcdfec5bf",
   "metadata": {},
   "outputs": [],
   "source": [
    "tci = (t2m.max()-t2m)/(t2m.max()-t2m.min())"
   ]
  },
  {
   "cell_type": "markdown",
   "id": "f60fc1e3-146b-4f7d-82c2-9eb527ce4d42",
   "metadata": {},
   "source": [
    "PCI ranges from 0 to 1 corresponding to changes in precipitation from extremely unfavorable to optimal. In case of a meteorological drought which has an extremely low precipitation, the PCI is close or equal to 0, and at flooding conditions, the PCI is close to 1. "
   ]
  },
  {
   "cell_type": "code",
   "execution_count": null,
   "id": "077010f2-1209-4d0e-be55-6924c72917ab",
   "metadata": {},
   "outputs": [],
   "source": [
    "pci = (tp-tp.min())/(tp.max()-tp.min())"
   ]
  },
  {
   "cell_type": "markdown",
   "id": "672ad090-6c0d-4fc6-b0aa-6a0d20436916",
   "metadata": {},
   "source": [
    "SCI ranges from 0 to 1 corresponding to changes in soil moisture from extremely unfavorable to optimal. In case of a meteorological drought which has an extremely low soil moisture, the SCI is close or equal to 0, and at moisture saturation conditions, the SCI is close to 1."
   ]
  },
  {
   "cell_type": "code",
   "execution_count": null,
   "id": "83040499-c726-4e2d-87e7-b44df39e50c8",
   "metadata": {},
   "outputs": [],
   "source": [
    "sci = (ssm-ssm.min())/(ssm.max()-ssm.min())"
   ]
  },
  {
   "cell_type": "markdown",
   "id": "c5c4b2f8-251b-4362-89b6-7c0d4726e2c4",
   "metadata": {},
   "source": [
    "You can also compare these indices visually: "
   ]
  },
  {
   "cell_type": "code",
   "execution_count": null,
   "id": "fa42a52e-0ad6-447e-aee1-d6592f6df326",
   "metadata": {},
   "outputs": [],
   "source": [
    "sci_resampled = sci.resample('5D').mean()\n",
    "pci_resampled = pci.resample('5D').mean()\n",
    "tci_resampled = tci.resample('5D').mean()\n",
    "\n",
    "trend_sci = seasonal.seasonal_decompose(sci_resampled.dropna(), model=\"additive\", period=73).trend\n",
    "trend_pci = seasonal.seasonal_decompose(pci_resampled.dropna(), model=\"additive\", period=73).trend\n",
    "trend_tci = seasonal.seasonal_decompose(tci_resampled.dropna(), model=\"additive\", period=73).trend\n",
    "\n",
    "fig, ax = plt.subplots(1,1, figsize=(10,5))\n",
    "ax.plot(trend_sci, label=\"sci\")\n",
    "ax.plot(trend_tci, label=\"tci\")\n",
    "ax1 = ax.twinx()\n",
    "ax1.plot(trend_pci, c=\"r\", label=\"pci\")\n",
    "ax.set_title(\"SCI, PCI and TCI trends\")\n",
    "ax.set_ylabel(\"SCI/TCI trend\")\n",
    "ax1.set_ylabel(\"PCI trend\")\n",
    "ax.set_xlabel(\"Date\")\n",
    "ax.legend()\n",
    "ax1.legend()\n",
    "\n",
    "plt.show()"
   ]
  },
  {
   "cell_type": "markdown",
   "id": "b88fa92d-ce93-4f89-9e00-ecc8df292a66",
   "metadata": {},
   "source": [
    "## SMADI/pytesmo"
   ]
  },
  {
   "cell_type": "markdown",
   "id": "46ee889f-a8fc-46bd-b5cc-4d3332e25fe3",
   "metadata": {},
   "source": [
    "A package for calculating and analysing time-series Data is the SMADI library (https://github.com/MuhammedM294/smadi/tree/main)"
   ]
  },
  {
   "cell_type": "code",
   "execution_count": null,
   "id": "b8fb66b6-9e72-4571-9ecd-32670aac8d92",
   "metadata": {},
   "outputs": [],
   "source": [
    "from smadi import preprocess"
   ]
  },
  {
   "cell_type": "markdown",
   "id": "792f732c-28d6-4c4c-8dae-43fafbade2e0",
   "metadata": {},
   "source": [
    "You can calculate the mean daily value of a variable with the *compute_clim* function. But also other statistical values for various timeframes."
   ]
  },
  {
   "cell_type": "code",
   "execution_count": null,
   "id": "b837f45b-ecd2-4ac8-a1c2-dad26082a3e0",
   "metadata": {},
   "outputs": [],
   "source": [
    "ts_smadi = preprocess.compute_clim(ts, \"day\", \"surface_soil_moisture\", [\"mean\"])\n",
    "ts_smadi"
   ]
  },
  {
   "cell_type": "markdown",
   "id": "b96a7d7a-5cc0-40c5-9dbb-e359f1a53b3a",
   "metadata": {},
   "source": [
    "If you substract the soil moisture value from the daily mean you get deviations:"
   ]
  },
  {
   "cell_type": "code",
   "execution_count": null,
   "id": "de7a5b28-8863-4c40-964c-877ca723b567",
   "metadata": {},
   "outputs": [],
   "source": [
    "ts_smadi[\"dev\"] = ts_smadi[\"surface_soil_moisture\"]-ts_smadi[\"norm-mean\"]"
   ]
  },
  {
   "cell_type": "markdown",
   "id": "8b84d40d-9544-4024-b7d8-2ea3274e2a64",
   "metadata": {},
   "source": [
    "You can also show the deviations visually:"
   ]
  },
  {
   "cell_type": "code",
   "execution_count": null,
   "id": "56f28c9e-662b-462f-a685-dbbc9052b76f",
   "metadata": {},
   "outputs": [],
   "source": [
    "kwargs = {\"facecolors\": \"None\", \"edgecolor\": \"C0\"}\n",
    "\n",
    "fig, ax = plt.subplots(figsize=(13,5))\n",
    "ax.plot(ts_smadi[\"norm-mean\"], c=\"r\")\n",
    "ax.scatter(ts_smadi.index, ts_smadi[\"surface_soil_moisture\"], marker=\"o\", **kwargs)\n",
    "ax.set_title(\"Deviation of surface soil moisture compared to daily mean\")\n",
    "ax.set_xlabel(\"Date\")\n",
    "ax.set_ylabel(\"surface soil moisture [%]\")\n",
    "ax.set_xlim(datetime(2008,1,1), datetime(2012,1,1))\n",
    "\n",
    "plt.show()"
   ]
  },
  {
   "cell_type": "markdown",
   "id": "38564d99-1fb0-49e5-b6a4-5b4b99eacc25",
   "metadata": {},
   "source": [
    "Alternatively you can use pytesmo (https://github.com/TUW-GEO/pytesmo/tree/master) to plot and calculate anomalies:"
   ]
  },
  {
   "cell_type": "code",
   "execution_count": null,
   "id": "4c3cd184-f893-427b-8d71-86fefcafa8df",
   "metadata": {},
   "outputs": [],
   "source": [
    "from pytesmo.time_series import plotting"
   ]
  },
  {
   "cell_type": "code",
   "execution_count": null,
   "id": "00d2d639-0053-4f30-a67d-d9f553645d87",
   "metadata": {},
   "outputs": [],
   "source": [
    "ts_pytesmo = ts[[\"surface_soil_moisture\", \"swvl1_era5\", \"stl1_era5\"]]"
   ]
  },
  {
   "cell_type": "code",
   "execution_count": null,
   "id": "25abc38b-5c50-4afd-aa8b-124a3181d556",
   "metadata": {},
   "outputs": [],
   "source": [
    "fig, axes = plt.subplots(3,1, figsize=(13,10))\n",
    "plotting.plot_clim_anom(ts_pytesmo, axes=axes)\n",
    "for ax in axes:\n",
    "    ax.set_xlim(datetime(2008,1,1), datetime(2012,1,1))\n",
    "\n",
    "plt.tight_layout()\n",
    "plt.show()"
   ]
  },
  {
   "cell_type": "code",
   "execution_count": null,
   "id": "a993e40b-76f2-4891-bdcb-4aef3799b7c3",
   "metadata": {},
   "outputs": [],
   "source": []
  }
 ],
 "metadata": {
  "kernelspec": {
   "display_name": "datascience",
   "language": "python",
   "name": "datascience"
  },
  "language_info": {
   "codemirror_mode": {
    "name": "ipython",
    "version": 3
   },
   "file_extension": ".py",
   "mimetype": "text/x-python",
   "name": "python",
   "nbconvert_exporter": "python",
   "pygments_lexer": "ipython3",
   "version": "3.11.9"
  }
 },
 "nbformat": 4,
 "nbformat_minor": 5
}
